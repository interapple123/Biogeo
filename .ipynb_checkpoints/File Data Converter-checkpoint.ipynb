{
 "cells": [
  {
   "cell_type": "code",
   "execution_count": 86,
   "metadata": {},
   "outputs": [],
   "source": [
    "from xmitgcm import open_mdsdataset\n",
    "import xarray as xr"
   ]
  },
  {
   "cell_type": "code",
   "execution_count": 87,
   "metadata": {},
   "outputs": [],
   "source": [
    "datapathPrefix = \"../MITgcm/verification/tutorial_global_oce_biogeo/run3/\"\n",
    "datapathDestined = [\n",
    "\"PTRACER01\",\n",
    "\"PTRACER02\",\n",
    "\"PTRACER03\",\n",
    "\"PTRACER04\",\n",
    "\"XC\",\n",
    "\"YC\",\n",
    "\"S\"\n",
    "]\n",
    "\n",
    "for path in datapathDestined:\n",
    "    ds = open_mdsdataset(datapathPrefix, iters='all', prefix=[path], read_grid=True, delta_t=900, ref_date=None, calendar='gregorian', levels=None, geometry='sphericalpolar', grid_vars_to_coords=True, swap_dims=None, endian='>', chunks=None, ignore_unknown_vars=False, default_dtype=None, \n",
    "                         nx=None, ny=None, nz=None, llc_method='smallchunks', extra_metadata=None, extra_variables=None)\n",
    "    ds.to_netcdf(path + \".nc\")"
   ]
  },
  {
   "cell_type": "code",
   "execution_count": null,
   "metadata": {},
   "outputs": [],
   "source": []
  },
  {
   "cell_type": "code",
   "execution_count": null,
   "metadata": {},
   "outputs": [],
   "source": []
  }
 ],
 "metadata": {
  "kernelspec": {
   "display_name": "Python 3 (ipykernel)",
   "language": "python",
   "name": "python3"
  },
  "language_info": {
   "codemirror_mode": {
    "name": "ipython",
    "version": 3
   },
   "file_extension": ".py",
   "mimetype": "text/x-python",
   "name": "python",
   "nbconvert_exporter": "python",
   "pygments_lexer": "ipython3",
   "version": "3.12.2"
  }
 },
 "nbformat": 4,
 "nbformat_minor": 4
}
